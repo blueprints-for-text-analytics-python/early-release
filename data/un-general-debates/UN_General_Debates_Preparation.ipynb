{
 "cells": [
  {
   "cell_type": "markdown",
   "metadata": {
    "slideshow": {
     "slide_type": "slide"
    }
   },
   "source": [
    "# Adaptation of the UN General Debates Data Set\n",
    "\n",
    "In order to simplify data access in Chapter 1 we prepared a slightly prepared version of the data set where speeches and speakers are stored in a single table resp. file, `un-general-debates-blueprint.csv`. The columns are named consistently and some data errors are resolved."
   ]
  },
  {
   "cell_type": "code",
   "execution_count": null,
   "metadata": {
    "ExecuteTime": {
     "end_time": "2020-04-27T06:27:23.170550Z",
     "start_time": "2020-04-27T06:27:21.458555Z"
    }
   },
   "outputs": [],
   "source": [
    "import pandas as pd"
   ]
  },
  {
   "cell_type": "markdown",
   "metadata": {},
   "source": [
    "## Prepare Speakers Data"
   ]
  },
  {
   "cell_type": "code",
   "execution_count": null,
   "metadata": {
    "ExecuteTime": {
     "end_time": "2020-04-27T06:27:23.224215Z",
     "start_time": "2020-04-27T06:27:23.172441Z"
    }
   },
   "outputs": [],
   "source": [
    "file = \"Speakers_by_session.csv\"\n",
    "speaker_df = pd.read_csv(file)\n",
    "\n",
    "print(len(speaker_df))\n",
    "print(speaker_df.columns)"
   ]
  },
  {
   "cell_type": "code",
   "execution_count": null,
   "metadata": {
    "ExecuteTime": {
     "end_time": "2020-04-27T06:27:23.243222Z",
     "start_time": "2020-04-27T06:27:23.229221Z"
    }
   },
   "outputs": [],
   "source": [
    "column_mapping = {\n",
    "    'Year': 'year',\n",
    "    'Session': 'session',\n",
    "    'ISO Code': 'country',\n",
    "    'Country': 'country_name',\n",
    "    'Name of Person Speaking': 'speaker',\n",
    "    'Post': 'position',\n",
    "    'Language': 'language',\n",
    "    'Notes': 'notes',\n",
    "}\n",
    "\n",
    "# select the new columns, i.e. not mapped to None\n",
    "columns = [c for c in column_mapping.keys() if column_mapping[c] != None]\n",
    "\n",
    "# select and rename columns\n",
    "speaker_df = speaker_df[columns].rename(columns=column_mapping)"
   ]
  },
  {
   "cell_type": "markdown",
   "metadata": {},
   "source": [
    "There is a wrong country code in one session:"
   ]
  },
  {
   "cell_type": "code",
   "execution_count": null,
   "metadata": {
    "ExecuteTime": {
     "end_time": "2020-04-27T06:27:23.294216Z",
     "start_time": "2020-04-27T06:27:23.246221Z"
    }
   },
   "outputs": [],
   "source": [
    "# bug in data: SLV is not Slovenia\n",
    "speaker_df.loc[((speaker_df['session'] == 59) & (speaker_df['country_name'] == 'Slovenia')), 'country'] = 'SVN'\n",
    "\n",
    "speaker_df[((speaker_df['session'] == 59) & (speaker_df['country_name'] == 'Slovenia'))]"
   ]
  },
  {
   "cell_type": "markdown",
   "metadata": {},
   "source": [
    "Create index on session and country for join with speeches data frame:"
   ]
  },
  {
   "cell_type": "code",
   "execution_count": null,
   "metadata": {
    "ExecuteTime": {
     "end_time": "2020-04-27T06:27:23.318217Z",
     "start_time": "2020-04-27T06:27:23.296218Z"
    }
   },
   "outputs": [],
   "source": [
    "speaker_df.dropna(subset=['session', 'country'], inplace=True)\n",
    "speaker_df.set_index(['session', 'country'], inplace=True, verify_integrity=True)"
   ]
  },
  {
   "cell_type": "markdown",
   "metadata": {},
   "source": [
    "## Prepare Speeches Data"
   ]
  },
  {
   "cell_type": "code",
   "execution_count": null,
   "metadata": {
    "ExecuteTime": {
     "end_time": "2020-04-27T06:27:25.029329Z",
     "start_time": "2020-04-27T06:27:23.321216Z"
    },
    "slideshow": {
     "slide_type": "slide"
    }
   },
   "outputs": [],
   "source": [
    "file = \"un-general-debates.csv\"\n",
    "df = pd.read_csv(file)\n",
    "\n",
    "print(len(df))"
   ]
  },
  {
   "cell_type": "markdown",
   "metadata": {},
   "source": [
    "Generate standardized country names with `pycountry`:"
   ]
  },
  {
   "cell_type": "code",
   "execution_count": null,
   "metadata": {
    "ExecuteTime": {
     "end_time": "2020-04-27T06:27:25.834463Z",
     "start_time": "2020-04-27T06:27:25.033333Z"
    }
   },
   "outputs": [],
   "source": [
    "import pycountry\n",
    "\n",
    "def country_for_iso(iso):\n",
    "    if iso == 'YUG':\n",
    "        return 'Yugoslavia'\n",
    "    elif iso == 'CSK':\n",
    "        return 'Czechoslovakia'\n",
    "    elif iso == 'DDR':\n",
    "        return 'German Dem. Republic'\n",
    "    elif iso == 'YDYE':\n",
    "        return 'Democratic Yemen'\n",
    "    elif iso == 'EU':\n",
    "        return 'European Union'\n",
    "    else:\n",
    "        return pycountry.countries.get(alpha_3=iso).name"
   ]
  },
  {
   "cell_type": "code",
   "execution_count": null,
   "metadata": {
    "ExecuteTime": {
     "end_time": "2020-04-27T06:27:25.878191Z",
     "start_time": "2020-04-27T06:27:25.837371Z"
    }
   },
   "outputs": [],
   "source": [
    "# there are two codes for Yemen\n",
    "# df.loc[df['country']=='YDYE', 'country'] = 'YEM'\n",
    "\n",
    "df['country_name'] = df['country'].apply(country_for_iso)"
   ]
  },
  {
   "cell_type": "code",
   "execution_count": null,
   "metadata": {
    "ExecuteTime": {
     "end_time": "2020-04-27T06:27:25.894094Z",
     "start_time": "2020-04-27T06:27:25.880093Z"
    }
   },
   "outputs": [],
   "source": [
    "df.set_index(['session', 'country'], inplace=True, verify_integrity=True)\n",
    "df.reset_index(inplace=True)"
   ]
  },
  {
   "cell_type": "markdown",
   "metadata": {},
   "source": [
    "## Join Speeches and Speakers"
   ]
  },
  {
   "cell_type": "code",
   "execution_count": null,
   "metadata": {
    "ExecuteTime": {
     "end_time": "2020-04-27T06:27:25.915109Z",
     "start_time": "2020-04-27T06:27:25.898096Z"
    }
   },
   "outputs": [],
   "source": [
    "df = df.join(speaker_df, on=['session', 'country'], rsuffix='_spk')\n",
    "df.columns\n",
    "len(df)"
   ]
  },
  {
   "cell_type": "code",
   "execution_count": null,
   "metadata": {
    "ExecuteTime": {
     "end_time": "2020-04-27T06:27:25.943127Z",
     "start_time": "2020-04-27T06:27:25.918094Z"
    }
   },
   "outputs": [],
   "source": [
    "df = df[['session', 'year', 'country', 'country_name', 'speaker', 'position', 'text']]\n",
    "\n",
    "df['session'] = df['session'].astype(int)\n",
    "df['year'] = df['year'].astype(int)\n",
    "\n",
    "df.sort_values(by=['year', 'session', 'country'], inplace=True)"
   ]
  },
  {
   "cell_type": "markdown",
   "metadata": {},
   "source": [
    "## Save to csv\n",
    "\n",
    "The file will be zipped (Pandas has a built-in compression and decompression feature)."
   ]
  },
  {
   "cell_type": "code",
   "execution_count": null,
   "metadata": {
    "ExecuteTime": {
     "end_time": "2020-04-27T06:27:42.104090Z",
     "start_time": "2020-04-27T06:27:25.945091Z"
    }
   },
   "outputs": [],
   "source": [
    "df.to_csv(\"un-general-debates-blueprint.csv.gz\", index=False)"
   ]
  },
  {
   "cell_type": "markdown",
   "metadata": {},
   "source": [
    "## Save to SQLite\n",
    "\n",
    "Alternatively, we could also save this to a SQLite DB. "
   ]
  },
  {
   "cell_type": "code",
   "execution_count": null,
   "metadata": {
    "ExecuteTime": {
     "end_time": "2020-04-27T06:27:42.117091Z",
     "start_time": "2020-04-27T06:27:42.107090Z"
    }
   },
   "outputs": [],
   "source": [
    "import sqlite3\n",
    "\n",
    "db_path = \"un-general-debates.db\"\n",
    "\n",
    "# con = sqlite3.connect(db_path)\n",
    "# df.to_sql(\"un_debates\", con, index=False, if_exists=\"replace\")\n",
    "# con.close()"
   ]
  },
  {
   "cell_type": "code",
   "execution_count": null,
   "metadata": {},
   "outputs": [],
   "source": []
  }
 ],
 "metadata": {
  "kernelspec": {
   "display_name": "Python 3",
   "language": "python",
   "name": "python3"
  },
  "language_info": {
   "codemirror_mode": {
    "name": "ipython",
    "version": 3
   },
   "file_extension": ".py",
   "mimetype": "text/x-python",
   "name": "python",
   "nbconvert_exporter": "python",
   "pygments_lexer": "ipython3",
   "version": "3.7.5"
  },
  "toc": {
   "base_numbering": 1,
   "nav_menu": {},
   "number_sections": true,
   "sideBar": true,
   "skip_h1_title": false,
   "title_cell": "Table of Contents",
   "title_sidebar": "Contents",
   "toc_cell": false,
   "toc_position": {},
   "toc_section_display": true,
   "toc_window_display": true
  }
 },
 "nbformat": 4,
 "nbformat_minor": 2
}
