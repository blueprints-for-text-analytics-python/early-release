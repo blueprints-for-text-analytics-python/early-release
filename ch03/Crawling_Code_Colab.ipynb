{
  "nbformat": 4,
  "nbformat_minor": 0,
  "metadata": {
    "kernelspec": {
      "display_name": "Python 3",
      "language": "python",
      "name": "python3"
    },
    "language_info": {
      "codemirror_mode": {
        "name": "ipython",
        "version": 3
      },
      "file_extension": ".py",
      "mimetype": "text/x-python",
      "name": "python",
      "nbconvert_exporter": "python",
      "pygments_lexer": "ipython3",
      "version": "3.8.2"
    },
    "toc": {
      "base_numbering": 1,
      "nav_menu": {},
      "number_sections": true,
      "sideBar": true,
      "skip_h1_title": false,
      "title_cell": "Table of Contents",
      "title_sidebar": "Contents",
      "toc_cell": false,
      "toc_position": {},
      "toc_section_display": true,
      "toc_window_display": false
    },
    "colab": {
      "name": "Crawling_Code.ipynb",
      "provenance": []
    }
  },
  "cells": [
    {
      "cell_type": "markdown",
      "metadata": {
        "id": "bg6vXOpUoGq4",
        "colab_type": "text"
      },
      "source": [
        "# Blueprint: download and interpret robots.txt"
      ]
    },
    {
      "cell_type": "code",
      "metadata": {
        "id": "XgVenIOToGq7",
        "colab_type": "code",
        "colab": {}
      },
      "source": [
        "import urllib.robotparser\n",
        "rp = urllib.robotparser.RobotFileParser()\n",
        "rp.set_url(\"https://www.reuters.com/robots.txt\")\n",
        "rp.read()"
      ],
      "execution_count": null,
      "outputs": []
    },
    {
      "cell_type": "code",
      "metadata": {
        "id": "iuxWAarsoGq-",
        "colab_type": "code",
        "colab": {}
      },
      "source": [
        "rp.can_fetch(\"*\", \"https://www.reuters.com/sitemap.xml\")"
      ],
      "execution_count": null,
      "outputs": []
    },
    {
      "cell_type": "code",
      "metadata": {
        "id": "3L101T-5oGrB",
        "colab_type": "code",
        "colab": {}
      },
      "source": [
        "rp.can_fetch(\"*\", \"https://www.reuters.com/finance/stocks/option\")"
      ],
      "execution_count": null,
      "outputs": []
    },
    {
      "cell_type": "markdown",
      "metadata": {
        "id": "mzwDF3nOoGrD",
        "colab_type": "text"
      },
      "source": [
        "# Blueprint: finding URLs from sitemap.xml"
      ]
    },
    {
      "cell_type": "code",
      "metadata": {
        "id": "onrCziAVrAgm",
        "colab_type": "code",
        "colab": {}
      },
      "source": [
        "!pip install xmltodict"
      ],
      "execution_count": null,
      "outputs": []
    },
    {
      "cell_type": "code",
      "metadata": {
        "scrolled": true,
        "id": "W852mFHOoGrE",
        "colab_type": "code",
        "colab": {}
      },
      "source": [
        "# might need to install xmltodict\n",
        "import xmltodict\n",
        "import requests\n",
        "\n",
        "sitemap = xmltodict.parse(requests.get('https://www.reuters.com/sitemap_news_index1.xml').text)"
      ],
      "execution_count": null,
      "outputs": []
    },
    {
      "cell_type": "code",
      "metadata": {
        "id": "841uffIloGrH",
        "colab_type": "code",
        "colab": {}
      },
      "source": [
        "# just see some of the URLs\n",
        "urls = [url[\"loc\"] for url in sitemap[\"urlset\"][\"url\"]]\n",
        "print(\"\\n\".join(urls[0:3]))"
      ],
      "execution_count": null,
      "outputs": []
    },
    {
      "cell_type": "markdown",
      "metadata": {
        "id": "EiIUx1sSoGrL",
        "colab_type": "text"
      },
      "source": [
        "# Blueprint: finding URLs from RSS"
      ]
    },
    {
      "cell_type": "code",
      "metadata": {
        "id": "s2NKQKUlrGyW",
        "colab_type": "code",
        "colab": {}
      },
      "source": [
        "!pip install feedparser"
      ],
      "execution_count": null,
      "outputs": []
    },
    {
      "cell_type": "code",
      "metadata": {
        "id": "7MGKtBAKoGrM",
        "colab_type": "code",
        "colab": {}
      },
      "source": [
        "# might need to install feedparser\n",
        "import feedparser\n",
        "feed = feedparser.parse('http://feeds.reuters.com/Reuters/worldNews')"
      ],
      "execution_count": null,
      "outputs": []
    },
    {
      "cell_type": "code",
      "metadata": {
        "id": "7gEmDJtRoGrP",
        "colab_type": "code",
        "colab": {}
      },
      "source": [
        "[(e.title, e.link) for e in feed.entries]"
      ],
      "execution_count": null,
      "outputs": []
    },
    {
      "cell_type": "code",
      "metadata": {
        "id": "kJoqad-EoGrS",
        "colab_type": "code",
        "colab": {}
      },
      "source": [
        "[e.id for e in feed.entries]"
      ],
      "execution_count": null,
      "outputs": []
    },
    {
      "cell_type": "markdown",
      "metadata": {
        "id": "chlsxEoAoGrU",
        "colab_type": "text"
      },
      "source": [
        "# Example: Downloading HTML pages with Python"
      ]
    },
    {
      "cell_type": "code",
      "metadata": {
        "id": "dIwBH0daoGrV",
        "colab_type": "code",
        "colab": {}
      },
      "source": [
        "%%time\n",
        "s = requests.Session()\n",
        "for url in urls[0:10]:\n",
        "    # get the part after the last / in URL and use as filename\n",
        "    file = url.split(\"/\")[-1]\n",
        "    \n",
        "    r = s.get(url)\n",
        "    with open(file, \"w+b\") as f:\n",
        "        f.write(r.text.encode('utf-8'))"
      ],
      "execution_count": null,
      "outputs": []
    },
    {
      "cell_type": "code",
      "metadata": {
        "id": "xlBeX4pWoGrY",
        "colab_type": "code",
        "colab": {}
      },
      "source": [
        "with open(\"urls.txt\", \"w+b\") as f:\n",
        "    f.write(\"\\n\".join(urls).encode('utf-8'))"
      ],
      "execution_count": null,
      "outputs": []
    },
    {
      "cell_type": "markdown",
      "metadata": {
        "id": "71lE3mouoGra",
        "colab_type": "text"
      },
      "source": [
        "# Blueprint: Extraction with regular expressions"
      ]
    },
    {
      "cell_type": "markdown",
      "metadata": {
        "id": "dsiYQP65oGrb",
        "colab_type": "text"
      },
      "source": [
        "We first have to download a single article"
      ]
    },
    {
      "cell_type": "code",
      "metadata": {
        "id": "js5blgHuoGrc",
        "colab_type": "code",
        "colab": {}
      },
      "source": [
        "url = 'https://www.reuters.com/article/us-health-vaping-marijuana-idUSKBN1WG4KT'\n",
        "\n",
        "file = url.split(\"/\")[-1] + \".html\"\n",
        "\n",
        "r = requests.get(url)\n",
        "\n",
        "with open(file, \"w+\") as f:\n",
        "    f.write(r.text)"
      ],
      "execution_count": null,
      "outputs": []
    },
    {
      "cell_type": "code",
      "metadata": {
        "id": "4W9USWj5oGrg",
        "colab_type": "code",
        "colab": {}
      },
      "source": [
        "import re\n",
        "with open(file, \"r\") as f:\n",
        "    html = f.read()\n",
        "    g = re.search(r'<title>(.*)</title>', html, re.MULTILINE|re.DOTALL)\n",
        "    if g:\n",
        "        print(g.groups()[0])"
      ],
      "execution_count": null,
      "outputs": []
    },
    {
      "cell_type": "markdown",
      "metadata": {
        "id": "8YoId1bpoGrj",
        "colab_type": "text"
      },
      "source": [
        "# Using an HTML parser for extraction"
      ]
    },
    {
      "cell_type": "code",
      "metadata": {
        "id": "WD_RSPvooGrj",
        "colab_type": "code",
        "colab": {}
      },
      "source": [
        "from bs4 import BeautifulSoup\n",
        "soup = BeautifulSoup(html, 'html.parser')\n",
        "soup.select(\"h1.ArticleHeader_headline\")"
      ],
      "execution_count": null,
      "outputs": []
    },
    {
      "cell_type": "markdown",
      "metadata": {
        "id": "Dlnd63dmoGrn",
        "colab_type": "text"
      },
      "source": [
        "## Blueprint: extracting the title/headline"
      ]
    },
    {
      "cell_type": "code",
      "metadata": {
        "id": "UgQCE-sxoGrn",
        "colab_type": "code",
        "colab": {}
      },
      "source": [
        "soup.h1"
      ],
      "execution_count": null,
      "outputs": []
    },
    {
      "cell_type": "code",
      "metadata": {
        "id": "0ZCqzQMWoGrr",
        "colab_type": "code",
        "colab": {}
      },
      "source": [
        "soup.h1.text"
      ],
      "execution_count": null,
      "outputs": []
    },
    {
      "cell_type": "code",
      "metadata": {
        "id": "Ew_1sC08oGru",
        "colab_type": "code",
        "colab": {}
      },
      "source": [
        "soup.title.text"
      ],
      "execution_count": null,
      "outputs": []
    },
    {
      "cell_type": "code",
      "metadata": {
        "id": "RZuzfNv4oGry",
        "colab_type": "code",
        "colab": {}
      },
      "source": [
        "soup.title.text.strip()"
      ],
      "execution_count": null,
      "outputs": []
    },
    {
      "cell_type": "markdown",
      "metadata": {
        "id": "hxJFTkKKoGr1",
        "colab_type": "text"
      },
      "source": [
        "## Blueprint: extracting the article text"
      ]
    },
    {
      "cell_type": "code",
      "metadata": {
        "id": "F0mU9XmZoGr2",
        "colab_type": "code",
        "colab": {}
      },
      "source": [
        "soup.select_one(\"div.StandardArticleBody_body\").text"
      ],
      "execution_count": null,
      "outputs": []
    },
    {
      "cell_type": "markdown",
      "metadata": {
        "id": "ptO1-Fz8oGr5",
        "colab_type": "text"
      },
      "source": [
        "## Blueprint: extracting image captions"
      ]
    },
    {
      "cell_type": "code",
      "metadata": {
        "id": "E0FhMlqAoGr5",
        "colab_type": "code",
        "colab": {}
      },
      "source": [
        "soup.select(\"div.StandardArticleBody_body figure\")"
      ],
      "execution_count": null,
      "outputs": []
    },
    {
      "cell_type": "markdown",
      "metadata": {
        "id": "hDz5FhDaoGr9",
        "colab_type": "text"
      },
      "source": [
        "Variant"
      ]
    },
    {
      "cell_type": "code",
      "metadata": {
        "id": "BhvgNfE4oGr-",
        "colab_type": "code",
        "colab": {}
      },
      "source": [
        "soup.select(\"div.StandardArticleBody_body figure img\")"
      ],
      "execution_count": null,
      "outputs": []
    },
    {
      "cell_type": "code",
      "metadata": {
        "id": "fYs5JpEIoGsB",
        "colab_type": "code",
        "colab": {}
      },
      "source": [
        "soup.select(\"div.StandardArticleBody_body figcaption\")"
      ],
      "execution_count": null,
      "outputs": []
    },
    {
      "cell_type": "markdown",
      "metadata": {
        "id": "y3FiDGEwoGsE",
        "colab_type": "text"
      },
      "source": [
        "## Blueprint: extracting the URL"
      ]
    },
    {
      "cell_type": "code",
      "metadata": {
        "id": "gBSlxZ_YoGsE",
        "colab_type": "code",
        "colab": {}
      },
      "source": [
        "soup.find(\"link\", {'rel': 'canonical'})['href']"
      ],
      "execution_count": null,
      "outputs": []
    },
    {
      "cell_type": "code",
      "metadata": {
        "id": "foiJRIbqoGsI",
        "colab_type": "code",
        "colab": {}
      },
      "source": [
        "soup.select_one(\"link[rel=canonical]\")['href']"
      ],
      "execution_count": null,
      "outputs": []
    },
    {
      "cell_type": "markdown",
      "metadata": {
        "id": "YLTcC-5noGsP",
        "colab_type": "text"
      },
      "source": [
        "## Blueprint: extracting list information (authors)"
      ]
    },
    {
      "cell_type": "code",
      "metadata": {
        "id": "zlZ8yscxoGsP",
        "colab_type": "code",
        "colab": {}
      },
      "source": [
        "soup.find(\"meta\", {'name': 'Author'})['content']"
      ],
      "execution_count": null,
      "outputs": []
    },
    {
      "cell_type": "markdown",
      "metadata": {
        "id": "GOQ5THTUoGsS",
        "colab_type": "text"
      },
      "source": [
        "Variant"
      ]
    },
    {
      "cell_type": "code",
      "metadata": {
        "id": "7jmcyPksoGsT",
        "colab_type": "code",
        "colab": {}
      },
      "source": [
        "sel = \"div.BylineBar_first-container.ArticleHeader_byline-bar div.BylineBar_byline span\"\n",
        "soup.select(sel)"
      ],
      "execution_count": null,
      "outputs": []
    },
    {
      "cell_type": "code",
      "metadata": {
        "id": "9e2XK_1noGsV",
        "colab_type": "code",
        "colab": {}
      },
      "source": [
        "[a.text for a in soup.select(sel)]"
      ],
      "execution_count": null,
      "outputs": []
    },
    {
      "cell_type": "markdown",
      "metadata": {
        "id": "CIrBNBLDoGsX",
        "colab_type": "text"
      },
      "source": [
        "## Blueprint: Extracting text of links (section)\n"
      ]
    },
    {
      "cell_type": "code",
      "metadata": {
        "id": "qJn4FH22oGsX",
        "colab_type": "code",
        "colab": {}
      },
      "source": [
        "soup.select_one(\"div.ArticleHeader_channel a\").text"
      ],
      "execution_count": null,
      "outputs": []
    },
    {
      "cell_type": "markdown",
      "metadata": {
        "id": "zDbe8eYHoGsZ",
        "colab_type": "text"
      },
      "source": [
        "## Blueprint: Extracting reading time"
      ]
    },
    {
      "cell_type": "code",
      "metadata": {
        "id": "c0CXIk3CoGsa",
        "colab_type": "code",
        "colab": {}
      },
      "source": [
        "soup.select_one(\"p.BylineBar_reading-time\").text"
      ],
      "execution_count": null,
      "outputs": []
    },
    {
      "cell_type": "markdown",
      "metadata": {
        "id": "ICCaNKEKoGse",
        "colab_type": "text"
      },
      "source": [
        "## Blueprint: extracting attributes (id)"
      ]
    },
    {
      "cell_type": "code",
      "metadata": {
        "id": "bh16e7BDoGsf",
        "colab_type": "code",
        "colab": {}
      },
      "source": [
        "soup.select_one(\"div.StandardArticle_inner-container\")['id']"
      ],
      "execution_count": null,
      "outputs": []
    },
    {
      "cell_type": "markdown",
      "metadata": {
        "id": "-SQdx0SeoGsh",
        "colab_type": "text"
      },
      "source": [
        "Alternative: URL"
      ]
    },
    {
      "cell_type": "markdown",
      "metadata": {
        "id": "nKV2JMERoGsi",
        "colab_type": "text"
      },
      "source": [
        "## Blueprint: Extracting Attribution"
      ]
    },
    {
      "cell_type": "code",
      "metadata": {
        "id": "QJdtBuLCoGsi",
        "colab_type": "code",
        "colab": {}
      },
      "source": [
        "soup.select_one(\"p.Attribution_content\").text"
      ],
      "execution_count": null,
      "outputs": []
    },
    {
      "cell_type": "markdown",
      "metadata": {
        "id": "QIPmYxxwoGsl",
        "colab_type": "text"
      },
      "source": [
        "## Blueprint: Extracting Timestamp"
      ]
    },
    {
      "cell_type": "code",
      "metadata": {
        "id": "jzY1mJF2oGsl",
        "colab_type": "code",
        "colab": {}
      },
      "source": [
        "ptime = soup.find(\"meta\", { 'property': \"og:article:published_time\"})['content']\n",
        "print(ptime)"
      ],
      "execution_count": null,
      "outputs": []
    },
    {
      "cell_type": "code",
      "metadata": {
        "id": "jDg1g_AOoGsn",
        "colab_type": "code",
        "colab": {}
      },
      "source": [
        "from dateutil import parser\n",
        "parser.parse(ptime)"
      ],
      "execution_count": null,
      "outputs": []
    },
    {
      "cell_type": "code",
      "metadata": {
        "id": "Hflw65HJoGsq",
        "colab_type": "code",
        "colab": {}
      },
      "source": [
        "parser.parse(soup.find(\"meta\", { 'property': \"og:article:modified_time\"})['content'])"
      ],
      "execution_count": null,
      "outputs": []
    },
    {
      "cell_type": "markdown",
      "metadata": {
        "id": "9bMrACxCoGsv",
        "colab_type": "text"
      },
      "source": [
        "# Blueprint: Spidering"
      ]
    },
    {
      "cell_type": "code",
      "metadata": {
        "id": "sN3CuAbLoGsw",
        "colab_type": "code",
        "colab": {}
      },
      "source": [
        "import requests\n",
        "from bs4 import BeautifulSoup\n",
        "import os.path\n",
        "from dateutil import parser\n",
        "\n",
        "def download_archive_page(page):\n",
        "    filename = \"page-%06d.html\" % page\n",
        "    if not os.path.isfile(filename):\n",
        "        url = \"https://www.reuters.com/news/archive/\" + \\\n",
        "              \"?view=page&page=%d&pageSize=10\" % page\n",
        "        r = requests.get(url)\n",
        "        with open(filename, \"w+\") as f:\n",
        "            f.write(r.text)\n",
        "\n",
        "def parse_archive_page(page_file):\n",
        "    with open(page_file, \"r\") as f:\n",
        "        html = f.read()\n",
        "    soup = BeautifulSoup(html, 'html.parser')\n",
        "    hrefs = [\"https://www.reuters.com\" + a['href'] \n",
        "               for a in soup.select(\"article.story div.story-content a\")]\n",
        "    return hrefs\n",
        "\n",
        "def download_article(url):\n",
        "    # check if article already there\n",
        "    filename = url.split(\"/\")[-1] + \".html\"\n",
        "    if not os.path.isfile(filename):\n",
        "        r = requests.get(url)\n",
        "        with open(filename, \"w+\") as f:\n",
        "            f.write(r.text)\n",
        "\n",
        "def parse_article(article_file):\n",
        "    with open(article_file, \"r\") as f:\n",
        "        html = f.read()\n",
        "    r = {}\n",
        "    soup = BeautifulSoup(html, 'html.parser')\n",
        "    r['id'] = soup.select_one(\"div.StandardArticle_inner-container\")['id']\n",
        "    r['url'] = soup.find(\"link\", {'rel': 'canonical'})['href']\n",
        "    r['headline'] = soup.h1.text\n",
        "    r['section'] = soup.select_one(\"div.ArticleHeader_channel a\").text\n",
        "    \n",
        "    r['text'] = soup.select_one(\"div.StandardArticleBody_body\").text\n",
        "    r['authors'] = [a.text \n",
        "                    for a in soup.select(\"div.BylineBar_first-container.ArticleHeader_byline-bar\\\n",
        "                                          div.BylineBar_byline span\")]\n",
        "    r['time'] = soup.find(\"meta\", { 'property': \"og:article:published_time\"})['content']\n",
        "    return r"
      ],
      "execution_count": null,
      "outputs": []
    },
    {
      "cell_type": "code",
      "metadata": {
        "id": "gXg3w6XpoGsz",
        "colab_type": "code",
        "colab": {}
      },
      "source": [
        "# download 10 pages of archive\n",
        "for p in range(1, 10):\n",
        "    download_archive_page(p)"
      ],
      "execution_count": null,
      "outputs": []
    },
    {
      "cell_type": "code",
      "metadata": {
        "id": "HiANkSUPoGs1",
        "colab_type": "code",
        "colab": {}
      },
      "source": [
        "# parse archive and add to article_urls\n",
        "import glob\n",
        "\n",
        "article_urls = []\n",
        "for page_file in glob.glob(\"page-*.html\"):\n",
        "    article_urls += parse_archive_page(page_file)"
      ],
      "execution_count": null,
      "outputs": []
    },
    {
      "cell_type": "code",
      "metadata": {
        "id": "-hCFPEwQoGs3",
        "colab_type": "code",
        "colab": {}
      },
      "source": [
        "# download articles\n",
        "for url in article_urls:\n",
        "    download_article(url)"
      ],
      "execution_count": null,
      "outputs": []
    },
    {
      "cell_type": "code",
      "metadata": {
        "id": "LB9q54DZoGs8",
        "colab_type": "code",
        "colab": {}
      },
      "source": [
        "# arrange in pandas DataFrame\n",
        "import pandas as pd\n",
        "\n",
        "df = pd.DataFrame()\n",
        "for article_file in glob.glob(\"*-id???????????.html\"):\n",
        "    df = df.append(parse_article(article_file), ignore_index=True)\n",
        "df['time'] = pd.to_datetime(df.time)"
      ],
      "execution_count": null,
      "outputs": []
    },
    {
      "cell_type": "code",
      "metadata": {
        "id": "fgopjGE_oGtA",
        "colab_type": "code",
        "colab": {}
      },
      "source": [
        "df"
      ],
      "execution_count": null,
      "outputs": []
    },
    {
      "cell_type": "code",
      "metadata": {
        "id": "bxHMZZAIoGtG",
        "colab_type": "code",
        "colab": {}
      },
      "source": [
        "df.sort_values(\"time\")"
      ],
      "execution_count": null,
      "outputs": []
    },
    {
      "cell_type": "code",
      "metadata": {
        "id": "NhCZINTsoGtL",
        "colab_type": "code",
        "colab": {}
      },
      "source": [
        "%matplotlib inline\n",
        "df[df[\"time\"]>='2020-01-01'].set_index(\"time\").resample('D').agg({'id': 'count'}).plot.bar()"
      ],
      "execution_count": null,
      "outputs": []
    },
    {
      "cell_type": "markdown",
      "metadata": {
        "id": "sEOq6qbhoGtS",
        "colab_type": "text"
      },
      "source": [
        "# Blueprint Density extraction"
      ]
    },
    {
      "cell_type": "code",
      "metadata": {
        "id": "a6d750JzrpLz",
        "colab_type": "code",
        "colab": {}
      },
      "source": [
        "!pip install readability-lxml"
      ],
      "execution_count": null,
      "outputs": []
    },
    {
      "cell_type": "code",
      "metadata": {
        "id": "nSXyuG3koGtS",
        "colab_type": "code",
        "colab": {}
      },
      "source": [
        "# might need to install readability-lxml\n",
        "from readability import Document\n",
        "\n",
        "doc = Document(html)\n",
        "doc.title()"
      ],
      "execution_count": null,
      "outputs": []
    },
    {
      "cell_type": "code",
      "metadata": {
        "id": "pIdpL1uioGtV",
        "colab_type": "code",
        "colab": {}
      },
      "source": [
        "doc.short_title()"
      ],
      "execution_count": null,
      "outputs": []
    },
    {
      "cell_type": "code",
      "metadata": {
        "id": "miUQs2hSoGtY",
        "colab_type": "code",
        "colab": {}
      },
      "source": [
        "doc.summary()"
      ],
      "execution_count": null,
      "outputs": []
    },
    {
      "cell_type": "code",
      "metadata": {
        "id": "djroMQLJoGtb",
        "colab_type": "code",
        "colab": {}
      },
      "source": [
        "doc.url"
      ],
      "execution_count": null,
      "outputs": []
    },
    {
      "cell_type": "code",
      "metadata": {
        "id": "jP7u6JetoGtm",
        "colab_type": "code",
        "colab": {}
      },
      "source": [
        "density_soup = BeautifulSoup(doc.summary(), 'html.parser')\n",
        "density_soup.body.text"
      ],
      "execution_count": null,
      "outputs": []
    },
    {
      "cell_type": "markdown",
      "metadata": {
        "id": "gRII_OGyoGto",
        "colab_type": "text"
      },
      "source": [
        "# Blueprint: Scrapy"
      ]
    },
    {
      "cell_type": "code",
      "metadata": {
        "id": "R11K4kearwpS",
        "colab_type": "code",
        "colab": {}
      },
      "source": [
        "!pip install scrapy"
      ],
      "execution_count": null,
      "outputs": []
    },
    {
      "cell_type": "code",
      "metadata": {
        "id": "Ca8x2bg_oGto",
        "colab_type": "code",
        "colab": {}
      },
      "source": [
        "# might need to install scrapy\n",
        "import scrapy\n",
        "import logging\n",
        "\n",
        "\n",
        "class ReutersArchiveSpider(scrapy.Spider):\n",
        "    name = 'reuters-archive'\n",
        "    \n",
        "    custom_settings = {\n",
        "        'LOG_LEVEL': logging.WARNING,\n",
        "        'FEED_FORMAT': 'json',\n",
        "        'FEED_URI': 'reuters-archive.json'\n",
        "    }\n",
        "    \n",
        "    start_urls = [\n",
        "        'https://www.reuters.com/news/archive/',\n",
        "    ]\n",
        "\n",
        "    def parse(self, response):\n",
        "        for article in response.css(\"article.story div.story-content a\"):\n",
        "            yield response.follow(article.css(\"a::attr(href)\").extract_first(), self.parse_article)\n",
        "\n",
        "        next_page_url = response.css('a.control-nav-next::attr(href)').extract_first()\n",
        "        if (next_page_url is not None) & ('page=2' not in next_page_url):\n",
        "            yield response.follow(next_page_url, self.parse)\n",
        "\n",
        "    def parse_article(self, response):\n",
        "        yield {\n",
        "          'title': response.css('h1::text').extract_first().strip(),\n",
        "          'section': response.css('div.ArticleHeader_channel a::text').extract_first().strip(),\n",
        "          'text': \"\\n\".join(response.css('div.StandardArticleBody_body p::text').extract())\n",
        "        }"
      ],
      "execution_count": null,
      "outputs": []
    },
    {
      "cell_type": "code",
      "metadata": {
        "scrolled": false,
        "id": "Mxs6xAtnoGtr",
        "colab_type": "code",
        "colab": {}
      },
      "source": [
        "# this can be run only once from a Jupyter notebook due to Twisted\n",
        "from scrapy.crawler import CrawlerProcess\n",
        "process = CrawlerProcess()\n",
        "\n",
        "process.crawl(ReutersArchiveSpider)\n",
        "process.start()"
      ],
      "execution_count": null,
      "outputs": []
    },
    {
      "cell_type": "code",
      "metadata": {
        "id": "l_jfvbozoGty",
        "colab_type": "code",
        "colab": {}
      },
      "source": [
        "glob.glob(\"*.json\")"
      ],
      "execution_count": null,
      "outputs": []
    },
    {
      "cell_type": "code",
      "metadata": {
        "id": "2SZPLsUqoGt0",
        "colab_type": "code",
        "colab": {}
      },
      "source": [
        "!cat 'reuters-archive.json'"
      ],
      "execution_count": null,
      "outputs": []
    },
    {
      "cell_type": "code",
      "metadata": {
        "id": "3IrOHX-rr_fZ",
        "colab_type": "code",
        "colab": {}
      },
      "source": [
        ""
      ],
      "execution_count": null,
      "outputs": []
    }
  ]
}